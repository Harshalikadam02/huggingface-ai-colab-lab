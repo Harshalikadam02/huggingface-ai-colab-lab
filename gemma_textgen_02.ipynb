{
 "cells": [
  {
   "cell_type": "code",
   "execution_count": null,
   "metadata": {
    "colab": {
     "base_uri": "https://localhost:8080/"
    },
    "id": "B0PY50iv3_pk",
    "outputId": "147e5cc1-a630-45e2-b14a-36c4dbf51c55"
   },
   "outputs": [],
   "source": [
    "!pip install transformers"
   ]
  },
  {
   "cell_type": "code",
   "execution_count": null,
   "metadata": {
    "id": "heXyZsG84H7T"
   },
   "outputs": [],
   "source": [
    "import os\n",
    "\n",
    "os.environ #paste your hugging face token here"
   ]
  },
  {
   "cell_type": "code",
   "execution_count": null,
   "metadata": {
    "id": "_2gde1Tn4K2Q"
   },
   "outputs": [],
   "source": [
    "from transformers import AutoTokenizer, AutoModelForCausalLM\n"
   ]
  },
  {
   "cell_type": "code",
   "execution_count": null,
   "metadata": {
    "id": "eHw5DzWY4QWW"
   },
   "outputs": [],
   "source": [
    "model_name = \"google/gemma-3-1b-it\""
   ]
  },
  {
   "cell_type": "code",
   "execution_count": null,
   "metadata": {
    "colab": {
     "base_uri": "https://localhost:8080/",
     "height": 177,
     "referenced_widgets": [
      "606e46c1ab494c5384e43de1b4a1eea4",
      "6152fea6330b4928aaac4f73f6ce8d4a",
      "2c028c7a52d74edaaee7351d6950f970",
      "164e3192740b4029bc65bb39067bb01a",
      "f4b22d3fba48492ab383b95275586fa0",
      "b32d682e7bb342c1a76c0df14af5a6d0",
      "c34927cbf6fa472ca7caa7dc841947e9",
      "6754920a3fdd4623bcc8c577d5a1df85",
      "e3f860ca7cd04ae2b8a66ff800776d36",
      "7ad9b1cc25af44148e79d61d6fa20fef",
      "033f7b6bc3924e69ae443722a31086ae",
      "1c4044d6fbe0428586d951a514bc8d7d",
      "12e9e75bd99a46e5800a398a8cab1b4b",
      "1292d4d3b3b6482ab22c35e511972d09",
      "6de90c6c7f8f43f19842a46c02ff0559",
      "c2d784bfa80c46c5a90d20c6ad0bcda2",
      "ccbb5995dc8d43608f9141a3661d9bd1",
      "8a9d048813fb4b6087173e192ff59c53",
      "5317bb9c2e3d4502b9e004044846c1a2",
      "423af433a2dd4398994002dfe302a54c",
      "49b5fbb5572d462898dd1e2ee595dcda",
      "3ff838eddbd440618f9da405a0d65765",
      "26b91574205a44c4a690ef42ffbc5cd6",
      "84934fb7e19446baabab456783c66e99",
      "9fa7c8e21fba4996869eb77ec51ba7ea",
      "9f3b62048b1845b4a7577c5d40690fcb",
      "5eed26ed73c84c55986fd6ceb9b07166",
      "422318c76ba14dbb8a7b388c71ee6b8c",
      "1a0cd3866c084847b6ec01407028a783",
      "aac538ee2a9648468856efd6ec0e04c9",
      "2ebb6e5389534930906cc8355b289873",
      "d03bb7a7d3144e4c8b1c12f56b3e433e",
      "285882b9c3594f328621a096ac78497f",
      "89fc0e817b9547bfa7333a3dc6419a61",
      "062047f958914b8ab516615f23af94fa",
      "0c9e2a2314b14c9384c266373ec57bc7",
      "cabedfdda135452890bb82fae38eb62a",
      "ee46574dd7e04d4db535860fc4ed590b",
      "2b63113a848e4dc7959aafe54683f303",
      "530dfbcc17a047c7abe131721491b492",
      "a8dd8fc43c29436cba4434d6390d4ce6",
      "b6077acbc58145128d1c8173e86f66d4",
      "3054c38d306f4e389d0a56a8f8d9bfb8",
      "6441f387616b4334b123f878d14b977a",
      "292d78cb98b74bd48202da2d120707a2",
      "a51d26ee05994e1d99a3110a5a4a6386",
      "d5a74eb4a658487cb4e3b612eb441f7d",
      "e224562aff5d466eb22be4d9d924f229",
      "1fabe62c139949d2b90d2072c6b4d3d9",
      "f378db7bdf884f768392f37cd4737e94",
      "dc7daa10a1b248d284db6a7d22ff7d84",
      "7a478318f3844ab7bcea73ae052b3364",
      "04698bb29c4b44a99e0a7d97a101c4bc",
      "594844f2ab214caa8ff8cb62c8724f0e",
      "23be777be53c41b2b07c08f36cab23e0"
     ]
    },
    "id": "HLJjRzqT4SlV",
    "outputId": "fb761348-df17-407a-bd77-765a657aaa4e"
   },
   "outputs": [],
   "source": [
    "tokenizer = AutoTokenizer.from_pretrained(model_name)"
   ]
  },
  {
   "cell_type": "code",
   "execution_count": null,
   "metadata": {
    "id": "x9qnTrNz4Vt0"
   },
   "outputs": [],
   "source": [
    "input_prompt = [\n",
    "    \"The capital of India is\"\n",
    "]"
   ]
  },
  {
   "cell_type": "code",
   "execution_count": null,
   "metadata": {
    "id": "GyMJHCY-4d6S"
   },
   "outputs": [],
   "source": [
    "tokenized = tokenizer(input_prompt, return_tensors=\"pt\")"
   ]
  },
  {
   "cell_type": "code",
   "execution_count": null,
   "metadata": {
    "colab": {
     "base_uri": "https://localhost:8080/"
    },
    "id": "guWVJ6-64f-2",
    "outputId": "2fa49ccb-3f07-434f-ce88-0ec0bd79e64a"
   },
   "outputs": [],
   "source": [
    "tokenized[\"input_ids\"]"
   ]
  },
  {
   "cell_type": "code",
   "execution_count": null,
   "metadata": {
    "colab": {
     "base_uri": "https://localhost:8080/",
     "height": 113,
     "referenced_widgets": [
      "97cd2d116aab400e966956b513bf369b",
      "cc1e89002dc54d52a2a40119336c1cb4",
      "efcd6e4c945449928b61d64ccc209899",
      "3115851555164df9b912e4af4ee09165",
      "120abd4ec2a64853953a95e99afac29b",
      "11689d4a04c9474db762e52f8c338997",
      "3ad703fd07ce45dbb895241dfecef21a",
      "9622b2ec7ca6427b8c2202964d71f3ae",
      "595c16b9df0d480ab8b1ad4b7787fc8c",
      "a03be12e0142425e86b13da9f89fa7b7",
      "a2f1c984bf2a467782e5aafc6ed6827e",
      "602a829b283a4032af3a4a80524a8f20",
      "983f3bef183f4ec4b1f1ed00bc20f970",
      "1433bd24f2244d839c7387380291dded",
      "fc3c30011d764e219b247d90fc9e9cb0",
      "7d86879901324624aeeff67d0c3ff3f5",
      "0266a2f526f74e99bd53fc7680789fa9",
      "8e0acf2c30d74ad3b491cfeb33f3b838",
      "3fa268f18d7f47669c7d2a5789fdc579",
      "0283b77fa94545ce84486074445833dc",
      "918e3f8ae48043339add4194ef3e95e5",
      "1c571598f963408ebe9eb218e2bcf911",
      "396761a4797e40a89aebfdba44a54b93",
      "b58918030ef0478a86d4d7d55e9f61f9",
      "1b3cd1fb4c6a4ababf78d8cfeb859857",
      "56a7648042fe41a481de8e8ef78e5d34",
      "22bf5f501eaa4220af555d8fe573bb11",
      "20500c2938d047e48c9f587459ca22ef",
      "3d19416e76434f7c84edc0c0170f26d2",
      "ce00dde454054323a59deefd4cee8cab",
      "65b9f43743894e07b270466ca1588d5c",
      "3ee9cc6e754a47d1bae678843e1324c8",
      "ac8f17ea14b1498cac3ad8e8ae15f24f"
     ]
    },
    "id": "ww5uhAyw4rdR",
    "outputId": "ad3710fb-9503-402b-9db0-bd058f687127"
   },
   "outputs": [],
   "source": [
    "import torch\n",
    "\n",
    "model = AutoModelForCausalLM.from_pretrained(\n",
    "    model_name,\n",
    "    torch_dtype=torch.bfloat16\n",
    ")"
   ]
  },
  {
   "cell_type": "code",
   "execution_count": null,
   "metadata": {
    "id": "FbCfP5GE4vux"
   },
   "outputs": [],
   "source": [
    "gen_result = model.generate(tokenized[\"input_ids\"], max_new_tokens=25)"
   ]
  },
  {
   "cell_type": "code",
   "execution_count": null,
   "metadata": {
    "colab": {
     "base_uri": "https://localhost:8080/"
    },
    "id": "rbVJBcsx5DpU",
    "outputId": "16efa4c6-9501-46f0-f7ad-4d6084b04795"
   },
   "outputs": [],
   "source": [
    "gen_result"
   ]
  },
  {
   "cell_type": "code",
   "execution_count": null,
   "metadata": {
    "colab": {
     "base_uri": "https://localhost:8080/"
    },
    "id": "xO3XDsAb5L9l",
    "outputId": "59b1e201-0f8c-4532-a6b1-ea8b90570d4d"
   },
   "outputs": [],
   "source": [
    "ouput = tokenizer.batch_decode(gen_result)\n",
    "ouput"
   ]
  }
 ],
 "metadata": {
  "accelerator": "GPU",
  "colab": {
   "gpuType": "L4",
   "provenance": []
  },
  "kernelspec": {
   "display_name": "Python 3",
   "name": "python3"
  },
  "language_info": {
   "name": "python"
  }
 },
 "nbformat": 4,
 "nbformat_minor": 0
}
