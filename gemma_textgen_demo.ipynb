{
 "cells": [
  {
   "cell_type": "code",
   "execution_count": null,
   "metadata": {
    "colab": {
     "base_uri": "https://localhost:8080/"
    },
    "id": "5Hafd0j40Y40",
    "outputId": "b4097493-bda2-46dc-d25c-98a84f8dbf56"
   },
   "outputs": [],
   "source": [
    "!pip install transformers"
   ]
  },
  {
   "cell_type": "code",
   "execution_count": null,
   "metadata": {
    "id": "nTbM6eXW0wK_"
   },
   "outputs": [],
   "source": [
    "import os\n",
    "\n",
    "os.environ #huggingface token here"
   ]
  },
  {
   "cell_type": "code",
   "execution_count": null,
   "metadata": {
    "id": "2LLxu8ju08fb"
   },
   "outputs": [],
   "source": [
    "model_name = \"google/gemma-3-1b-it\""
   ]
  },
  {
   "cell_type": "code",
   "execution_count": null,
   "metadata": {
    "id": "BKO16s4c1TKb"
   },
   "outputs": [],
   "source": [
    "from transformers import AutoTokenizer"
   ]
  },
  {
   "cell_type": "code",
   "execution_count": null,
   "metadata": {
    "colab": {
     "base_uri": "https://localhost:8080/",
     "height": 177,
     "referenced_widgets": [
      "860289f87ae44ed2866fe246d226f7c6",
      "450d787433ac49ffb1164c23c7a08055",
      "c4f628faf5df41248523937eea14a990",
      "a0be3559f9e543f583c460479b7902d7",
      "e5d34409f0f5481b814dd900891523fc",
      "7eee0a0a9f1d4f2bbd94d1789809851a",
      "5bf3aff658ab4a3c8fb789ec0dba3157",
      "c48095ad39074b11b7df6a7bdb6fd466",
      "6671288a79714cad970ee8bf0fdd3a4f",
      "3fb5178bc02c428a8dc50d686d6a1b36",
      "df1358adb1944102abeb55638815fa24",
      "28abb5df883145889708d4fa2ad262d8",
      "c2c6549a38eb4c16b8301ec7f0a13e7b",
      "be8dbcfdc33b401ca612b24c35da99d6",
      "c751e9e42c894ccf821bd184ce11446e",
      "ebd279560a55440cae6254792750c718",
      "03246b04293e4faaab559959c1bcd9de",
      "cba915eb4917435598cbcc37ab5c73ce",
      "c6547c45c2f348868be0eb1daceee150",
      "31265140ea4c4033a03d1065ea766197",
      "31880539808048518755385425aaf060",
      "2cc2a514915840d4b7ad427d3f210bee",
      "fbccc3b9f74342e5846dcec120ce59a6",
      "ab9cc8f2d03d4b5ab355114a21a01a52",
      "fefddd0698344fc88c69bcac7a30e194",
      "81f510813e194903a9be73fa6565a1e3",
      "dffd85d8c5da4f5590bf040ec66ed374",
      "90dba17558f3423586a2ee1f42608192",
      "cf9300004b27459eb632d9bfca920bdf",
      "b3e45b369cb7438ab668aa0aba19df6f",
      "735ee68458874a539817d58a5001c491",
      "082a66eed030448580904504f0994c64",
      "1c2310c17ee143d2bdbb21515adb0de4",
      "7d5f4ebb1a2a4fe38fc89053ea04b4a6",
      "a5a74cf0bd7c498c9ecf916eee602c35",
      "a149dd706aab43fcb171fd92da6dcba8",
      "28599c3fccdc490cae3b2f1aa2873a50",
      "159bf79f10b6422084f61e1816ed6a8d",
      "f0dc698f89a6491b94e9a78adb76acd6",
      "24070e3e61764de48a0563f0bcf49c5b",
      "ef213632fd674c04a61c088c4d6f3ec6",
      "3f42841582ff470dbfb6f530d6076402",
      "c9c468f1fbdb44cd89a30af32d98f848",
      "78779405d50a4caba83ac30d3c24e272",
      "bcfd61c4dce64ae5957199eced87192e",
      "5ed5b1361dcf468d9ba5bde10076b946",
      "083508c8f144485e978425a7c6df8ffb",
      "15c6d6baaaa84b78b037ae62919099d8",
      "c496870cc1704331893bfdf57dc8d871",
      "79fb7272de6147d389f7334a7c9f7b16",
      "c989335271eb4f98b56ece4217eafade",
      "b3ae01e29e3f40daa7aef053939a779e",
      "343832f50bc44bbe8f243e79295b4f85",
      "b12a8fa15f064f78bdc36dd385f4c094",
      "d735f1419e6c4b379ddfae771e069485"
     ]
    },
    "id": "ARspvmAw1XXN",
    "outputId": "f8a65214-df90-4cd4-9be0-dfda1c604717"
   },
   "outputs": [],
   "source": [
    "tokenizer = AutoTokenizer.from_pretrained(model_name)"
   ]
  },
  {
   "cell_type": "code",
   "execution_count": null,
   "metadata": {
    "colab": {
     "base_uri": "https://localhost:8080/"
    },
    "id": "H3ab73-u1pX4",
    "outputId": "7d5359dd-29b9-4311-9f02-d97a5e1a7cae"
   },
   "outputs": [],
   "source": [
    "print(tokenizer(\"Hello, how are you?\"))\n",
    "print(tokenizer.get_vocab())\n",
    "\n",
    "input_tokens = tokenizer(\"Hello, how are you?\")[\"input_ids\"]\n",
    "print(input_tokens)"
   ]
  },
  {
   "cell_type": "code",
   "execution_count": null,
   "metadata": {
    "id": "Ae1ZhLnG2Eto"
   },
   "outputs": [],
   "source": [
    "from transformers import AutoModelForCausalLM"
   ]
  },
  {
   "cell_type": "code",
   "execution_count": null,
   "metadata": {
    "id": "QLkSAh-f2Knb"
   },
   "outputs": [],
   "source": [
    "import torch\n",
    "\n",
    "model = AutoModelForCausalLM.from_pretrained(\n",
    "    model_name,\n",
    "    torch_dtype=torch.bfloat16\n",
    ")"
   ]
  },
  {
   "cell_type": "code",
   "execution_count": null,
   "metadata": {
    "colab": {
     "base_uri": "https://localhost:8080/"
    },
    "id": "rEkoIrrn2S4D",
    "outputId": "7f0257d9-1f21-4eda-8f57-15fddc3874a7"
   },
   "outputs": [],
   "source": [
    "from transformers import pipeline\n",
    "\n",
    "gen_pipeline = pipeline(\"text-generation\", model=model, tokenizer=tokenizer)"
   ]
  },
  {
   "cell_type": "code",
   "execution_count": null,
   "metadata": {
    "colab": {
     "base_uri": "https://localhost:8080/"
    },
    "id": "FLPzJ2Na26QN",
    "outputId": "fc9bb884-ab41-47d5-d303-79e4bf951878"
   },
   "outputs": [],
   "source": [
    "gen_pipeline(\"Hey there\", max_new_tokens=25)"
   ]
  }
 ],
 "metadata": {
  "accelerator": "GPU",
  "colab": {
   "gpuType": "L4",
   "provenance": []
  },
  "kernelspec": {
   "display_name": "Python 3",
   "name": "python3"
  },
  "language_info": {
   "name": "python"
  }
 },
 "nbformat": 4,
 "nbformat_minor": 0
}
